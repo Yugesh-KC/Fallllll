{
 "cells": [
  {
   "cell_type": "code",
   "execution_count": 123,
   "metadata": {},
   "outputs": [],
   "source": [
    "import torchvision.models as models\n",
    "from torchvision import transforms\n",
    "import torch.nn as nn\n",
    "import cv2\n",
    "import torch\n",
    "import requests\n",
    "import torch.optim as optim\n",
    "device = torch.device(\"cuda\" if torch.cuda.is_available() else \"cpu\")\n",
    "\n"
   ]
  },
  {
   "cell_type": "code",
   "execution_count": 125,
   "metadata": {},
   "outputs": [
    {
     "data": {
      "text/plain": [
       "<All keys matched successfully>"
      ]
     },
     "execution_count": 125,
     "metadata": {},
     "output_type": "execute_result"
    }
   ],
   "source": [
    "\n",
    "\n",
    "model = models.video.r3d_18(pretrained=True)  # R3D model pretrained on Kinetics-400\n",
    "model.fc = nn.Linear(model.fc.in_features, 3) #Replace the final layer with another classification layer\n",
    "\n",
    "for param in model.parameters():\n",
    "    param.requires_grad=False        #no need to train the pretrained weights\n",
    "\n",
    "for param in model.fc.parameters():   #we need to train the new weights \n",
    "    param.requires_grad = True\n",
    "    \n",
    "state_dict = torch.load(\"model.pth\", map_location=torch.device(\"cpu\"))\n",
    "model.load_state_dict(state_dict)\n"
   ]
  },
  {
   "cell_type": "code",
   "execution_count": 126,
   "metadata": {},
   "outputs": [],
   "source": [
    "transform = transforms.Compose([\n",
    "    transforms.ToPILImage(),  # Convert NumPy array to PIL Image\n",
    "    transforms.Resize((112, 112)),  # Resize frame to 112x112\n",
    "    transforms.ToTensor(),  # Convert to tensor\n",
    "    transforms.Normalize(mean=[0.485, 0.456, 0.406], std=[0.229, 0.224, 0.225])  # Normalize\n",
    "])\n",
    "\n",
    "# Function to extract and preprocess frames\n",
    "def prepare_video(video_path, num_frames=16):\n",
    "    cap = cv2.VideoCapture(video_path)\n",
    "    frames = []\n",
    "    total_frames = int(cap.get(cv2.CAP_PROP_FRAME_COUNT))\n",
    "    frame_indices = torch.linspace(0, total_frames - 1, num_frames).long()\n",
    "\n",
    "    for idx in frame_indices:\n",
    "        cap.set(cv2.CAP_PROP_POS_FRAMES, idx.item())\n",
    "        ret, frame = cap.read()\n",
    "        if not ret:\n",
    "            break\n",
    "        frame = cv2.cvtColor(frame, cv2.COLOR_BGR2RGB)  # Convert BGR to RGB\n",
    "        frames.append(transform(frame))\n",
    "    \n",
    "    cap.release()\n",
    "\n",
    "    # Stack frames and format for the model\n",
    "    video_tensor = torch.stack(frames)  # Shape: [T, C, H, W]\n",
    "    video_tensor = video_tensor.permute(1, 0, 2, 3)  # [T, C, H, W] -> [C, T, H, W]\n",
    "    return video_tensor.unsqueeze(0)  # Add batch dimension: [C, T, H, W] -> [B, C, T, H, W]"
   ]
  },
  {
   "cell_type": "code",
   "execution_count": null,
   "metadata": {},
   "outputs": [],
   "source": [
    "\n",
    "def classify_video(video_path, model):\n",
    "    # Prepare the video as input\n",
    "    model.eval()\n",
    "    input_tensor = prepare_video(video_path)\n",
    "    \n",
    "    input_tensor=input_tensor.to(\n",
    "                                 )\n",
    "    print(input_tensor.type())\n",
    "\n",
    "    # Perform inference\n",
    "    with torch.no_grad():\n",
    "        output = model(input_tensor)  # Output shape: [B, num_classes]\n",
    "        \n",
    "        print(output)\n",
    "\n",
    "    \n",
    "    # Get predicted class index\n",
    "    predicted_class_idx = torch.argmax(output,dim=1).item()\n",
    "    # predicted_label = class_labels[predicted_class_idx]\n",
    "    return predicted_class_idx\n",
    "\n"
   ]
  },
  {
   "cell_type": "code",
   "execution_count": 128,
   "metadata": {},
   "outputs": [],
   "source": [
    "lossi=[] #for plotting the loss\n",
    "sum_loss=0\n",
    "\n",
    "def train_model(model,x_train,y_train,batch_size,max_iters=100):\n",
    "    optimizer = optim.Adam(model.parameters(), lr=0.0001, weight_decay=0.01)\n",
    "   # AdamW optimizer\n",
    "    model.train()                                           # Setting the model in training mode  \n",
    "    criterion=torch.nn.CrossEntropyLoss()     # Loss for classification\n",
    "    sum_loss=0\n",
    "    \n",
    "    #Creates a minibatch of random examples\n",
    "    def createbatch():  \n",
    "        batch_indices = torch.randint(0, x_train.size(0), (batch_size,))   # Same int can be repeated tho\n",
    "        x_batch=x_train[batch_indices]   \n",
    "        y_batch=y_train[batch_indices]   \n",
    "        return x_batch,y_batch\n",
    "        \n",
    "    \n",
    "    \n",
    "    for i in range(max_iters):\n",
    "        x_batch,y_batch=createbatch()\n",
    "        output=model(x_batch)\n",
    "        optimizer.zero_grad()\n",
    "        loss=criterion(output,y_batch)\n",
    "        loss.backward()\n",
    "        optimizer.step()\n",
    "        print('iteration', i)\n",
    "        sum_loss+=loss.item()\n",
    "        \n",
    "        \n",
    "        if i%10 ==0:\n",
    "            print('loss:',loss)\n",
    "            print('\\n')\n",
    "            lossi.append(sum_loss/10)\n",
    "            sum_loss=0\n",
    "\n",
    "    "
   ]
  },
  {
   "cell_type": "code",
   "execution_count": 129,
   "metadata": {},
   "outputs": [
    {
     "name": "stdout",
     "output_type": "stream",
     "text": [
      "torch.Size([700, 3, 16, 112, 112])\n",
      "torch.Size([700])\n"
     ]
    }
   ],
   "source": [
    "X=torch.load('video_tensors.pt')\n",
    "Y = torch.load('labels.pt')\n",
    "model = model.to(device)\n",
    "X = X.to(device)\n",
    "Y = Y.to(device)\n",
    "\n",
    "print(X.shape)\n",
    "print(Y.shape)\n"
   ]
  },
  {
   "cell_type": "code",
   "execution_count": 131,
   "metadata": {},
   "outputs": [],
   "source": [
    "train_ratio = 0.8\n",
    "num_samples = X.size(0)  \n",
    "\n",
    "# Calculate the number of training samples\n",
    "train_size = int(num_samples * train_ratio)\n",
    "test_size = num_samples - train_size\n",
    "\n",
    "# Create indices for the split\n",
    "indices = torch.randperm(num_samples)  # Random permutation of indices\n",
    "\n",
    "# Get the training and testing indices\n",
    "train_indices = indices[:train_size]\n",
    "test_indices = indices[train_size:]\n",
    "\n",
    "# Split the data\n",
    "X_train = X[train_indices]\n",
    "Y_train = Y[train_indices]\n",
    "\n",
    "X_test = X[test_indices]\n",
    "Y_test = Y[test_indices]\n",
    "\n",
    "# Now, X_train, Y_train, X_test, and Y_test contain the respective datasets\n"
   ]
  },
  {
   "cell_type": "code",
   "execution_count": 132,
   "metadata": {},
   "outputs": [
    {
     "name": "stdout",
     "output_type": "stream",
     "text": [
      "iteration 0\n",
      "loss: tensor(0.1417, grad_fn=<NllLossBackward0>)\n",
      "\n",
      "\n"
     ]
    }
   ],
   "source": [
    "train_model(model,X_train,Y_train,32,1)"
   ]
  },
  {
   "cell_type": "code",
   "execution_count": null,
   "metadata": {},
   "outputs": [
    {
     "name": "stdout",
     "output_type": "stream",
     "text": [
      "torch.FloatTensor\n",
      "tensor([[ 0.5468, -4.6459,  1.4174]])\n",
      "assault\n"
     ]
    }
   ],
   "source": [
    "\n",
    "\n",
    "# Classify the video\n",
    "video_path = \"beating.mp4\"\n",
    "label = classify_video(video_path, model)\n",
    "\n",
    "labels={0:\"non assault\", 1:\"alert\",2:\"assault\"}\n",
    "print(labels[label])\n",
    "\n",
    "\n"
   ]
  },
  {
   "cell_type": "code",
   "execution_count": null,
   "metadata": {},
   "outputs": [
    {
     "data": {
      "image/png": "[encoded data removed]",
      "text/plain": [
       "<Figure size 640x480 with 1 Axes>"
      ]
     },
     "metadata": {},
     "output_type": "display_data"
    }
   ],
   "source": [
    "import matplotlib.pyplot as plt\n",
    "\n",
    "\n",
    "# Create a plot\n",
    "\n",
    "plt.plot(lossi, label='Loss')\n",
    "plt.xlabel('Epochs')  # X-axis label, e.g., number of epochs\n",
    "plt.ylabel('Loss')    # Y-axis label\n",
    "plt.title('Loss over Time')  # Title of the plot\n",
    "plt.legend()  # Show legend\n",
    "plt.grid(True)  # Optional: Add grid for better readability\n",
    "plt.show()  # Display the plot"
   ]
  },
  {
   "cell_type": "code",
   "execution_count": null,
   "metadata": {},
   "outputs": [],
   "source": [
    "import torch\n",
    "\n",
    "# Assuming 'model' is your model\n",
    "torch.save(model.state_dict(), 'model.pth')\n"
   ]
  },
  {
   "cell_type": "code",
   "execution_count": null,
   "metadata": {},
   "outputs": [
    {
     "name": "stdout",
     "output_type": "stream",
     "text": [
      "torch.Size([700, 3, 16, 112, 112])\n",
      "torch.Size([700])\n"
     ]
    }
   ],
   "source": [
    "def validation_loss(model, x_val, y_val, batch_size):\n",
    "    model.eval()  # Switch to evaluation mode\n",
    "    criterion = torch.nn.CrossEntropyLoss()  # Loss for classification\n",
    "    \n",
    "    # Creates a minibatch for validation\n",
    "    def create_val_batch():\n",
    "        batch_indices = torch.randint(0, x_val.size(0), (batch_size,))\n",
    "        x_val_batch = x_val[batch_indices]\n",
    "        y_val_batch = y_val[batch_indices]\n",
    "        return x_val_batch, y_val_batch\n",
    "    \n",
    "    sum_val_loss = 0\n",
    "    correct = 0\n",
    "    num_batches = len(x_val) // batch_size  # Number of batches for validation\n",
    "    \n",
    "    with torch.no_grad():  # Disable gradient computation\n",
    "        for _ in range(num_batches):\n",
    "            x_val_batch, y_val_batch = create_val_batch()\n",
    "            val_output = model(x_val_batch)\n",
    "            val_loss = criterion(val_output, y_val_batch)\n",
    "            sum_val_loss += val_loss.item()\n",
    "            \n",
    "            # Calculate accuracy\n",
    "            _, predicted = torch.max(val_output, 1)  # Get the predicted class (highest probability)\n",
    "            correct += (predicted == y_val_batch).sum().item()  # Count correct predictions\n",
    "    \n",
    "    avg_val_loss = sum_val_loss / num_batches  # Average validation loss\n",
    "    accuracy = correct / len(x_val)  # Accuracy for the entire validation set\n",
    "    print(f'Validation loss: {avg_val_loss}, Validation Accuracy: {accuracy * 100:.2f}%')\n",
    "    \n",
    "    return avg_val_loss, accuracy\n"
   ]
  },
  {
   "cell_type": "code",
   "execution_count": 104,
   "metadata": {},
   "outputs": [
    {
     "name": "stdout",
     "output_type": "stream",
     "text": [
      "Validation loss: 0.8713085204362869\n"
     ]
    },
    {
     "data": {
      "text/plain": [
       "0.8713085204362869"
      ]
     },
     "execution_count": 104,
     "metadata": {},
     "output_type": "execute_result"
    }
   ],
   "source": [
    "loss=validation_loss(model,X_test,Y_test,32)"
   ]
  },
  {
   "cell_type": "code",
   "execution_count": null,
   "metadata": {},
   "outputs": [],
   "source": []
  }
 ],
 "metadata": {
  "kernelspec": {
   "display_name": "Python 3",
   "language": "python",
   "name": "python3"
  },
  "language_info": {
   "codemirror_mode": {
    "name": "ipython",
    "version": 3
   },
   "file_extension": ".py",
   "mimetype": "text/x-python",
   "name": "python",
   "nbconvert_exporter": "python",
   "pygments_lexer": "ipython3",
   "version": "3.11.9"
  }
 },
 "nbformat": 4,
 "nbformat_minor": 2
}
